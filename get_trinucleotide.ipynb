{
 "cells": [
  {
   "cell_type": "markdown",
   "metadata": {},
   "source": [
    "# Identify the reference 96-based trinucleotide of a mutation\n",
    "\n",
    "This code queries the hg19 reference genome to get the trinucleotide sequence overlapping a mutated position\n",
    "\n",
    "**Note**: by consensus the trinucleotides are only represented for pyrimidines; this is, the A[A>C]A trinucleotide \n",
    "    includes mutations in A[C>A]A and T[G>T]T."
   ]
  },
  {
   "cell_type": "code",
   "execution_count": 15,
   "metadata": {
    "collapsed": true
   },
   "outputs": [],
   "source": [
    "import pandas as pd\n",
    "\n",
    "from bgreference import hg19"
   ]
  },
  {
   "cell_type": "code",
   "execution_count": 16,
   "metadata": {
    "collapsed": true
   },
   "outputs": [],
   "source": [
    "def rev_comp(seq):\n",
    "    \"\"\"Compute reverse complementary of a sequence\"\"\"\n",
    "    comp_nucleotides = {\n",
    "        'A': 'T',\n",
    "        'C': 'G',\n",
    "        'G': 'C',\n",
    "        'T': 'A'\n",
    "    }\n",
    "\n",
    "    return ''.join(list(map(lambda x: comp_nucleotides[x], seq[::-1])))"
   ]
  },
  {
   "cell_type": "code",
   "execution_count": 18,
   "metadata": {},
   "outputs": [
    {
     "data": {
      "text/html": [
       "<div>\n",
       "<style scoped>\n",
       "    .dataframe tbody tr th:only-of-type {\n",
       "        vertical-align: middle;\n",
       "    }\n",
       "\n",
       "    .dataframe tbody tr th {\n",
       "        vertical-align: top;\n",
       "    }\n",
       "\n",
       "    .dataframe thead th {\n",
       "        text-align: right;\n",
       "    }\n",
       "</style>\n",
       "<table border=\"1\" class=\"dataframe\">\n",
       "  <thead>\n",
       "    <tr style=\"text-align: right;\">\n",
       "      <th></th>\n",
       "      <th>chr</th>\n",
       "      <th>pos</th>\n",
       "      <th>ref</th>\n",
       "      <th>alt</th>\n",
       "      <th>sample</th>\n",
       "      <th>mutation_type</th>\n",
       "    </tr>\n",
       "  </thead>\n",
       "  <tbody>\n",
       "    <tr>\n",
       "      <th>0</th>\n",
       "      <td>1</td>\n",
       "      <td>1541060</td>\n",
       "      <td>G</td>\n",
       "      <td>A</td>\n",
       "      <td>5FU-PATIENT1-N-CLONE1</td>\n",
       "      <td>GG-&gt;AG</td>\n",
       "    </tr>\n",
       "    <tr>\n",
       "      <th>1</th>\n",
       "      <td>1</td>\n",
       "      <td>1937385</td>\n",
       "      <td>C</td>\n",
       "      <td>A</td>\n",
       "      <td>5FU-PATIENT1-N-CLONE1</td>\n",
       "      <td>CC-&gt;AC</td>\n",
       "    </tr>\n",
       "    <tr>\n",
       "      <th>2</th>\n",
       "      <td>1</td>\n",
       "      <td>2612326</td>\n",
       "      <td>C</td>\n",
       "      <td>T</td>\n",
       "      <td>5FU-PATIENT1-N-CLONE1</td>\n",
       "      <td>CC-&gt;CT</td>\n",
       "    </tr>\n",
       "  </tbody>\n",
       "</table>\n",
       "</div>"
      ],
      "text/plain": [
       "  chr      pos ref alt                 sample mutation_type\n",
       "0   1  1541060   G   A  5FU-PATIENT1-N-CLONE1        GG->AG\n",
       "1   1  1937385   C   A  5FU-PATIENT1-N-CLONE1        CC->AC\n",
       "2   1  2612326   C   T  5FU-PATIENT1-N-CLONE1        CC->CT"
      ]
     },
     "execution_count": 18,
     "metadata": {},
     "output_type": "execute_result"
    }
   ],
   "source": [
    "f = '/home/carnedo/Downloads/mut_type_data.txt'\n",
    "input_mutations = pd.read_csv(f, sep='\\t', header=0)\n",
    "input_mutations.head(3)"
   ]
  },
  {
   "cell_type": "code",
   "execution_count": 26,
   "metadata": {},
   "outputs": [
    {
     "data": {
      "text/plain": [
       "409359"
      ]
     },
     "execution_count": 26,
     "metadata": {},
     "output_type": "execute_result"
    }
   ],
   "source": [
    "len(input_mutations)"
   ]
  },
  {
   "cell_type": "code",
   "execution_count": 27,
   "metadata": {
    "collapsed": true
   },
   "outputs": [],
   "source": [
    "# Subset substitutions\n",
    "nucleotides = ['A', 'C', 'G', 'T']\n",
    "input_mutations = input_mutations.loc[(input_mutations['ref'].isin(nucleotides)) & (input_mutations['alt'].isin(nucleotides))].copy()"
   ]
  },
  {
   "cell_type": "code",
   "execution_count": 28,
   "metadata": {},
   "outputs": [
    {
     "data": {
      "text/plain": [
       "306220"
      ]
     },
     "execution_count": 28,
     "metadata": {},
     "output_type": "execute_result"
    }
   ],
   "source": [
    "len(input_mutations)"
   ]
  },
  {
   "cell_type": "code",
   "execution_count": 29,
   "metadata": {},
   "outputs": [
    {
     "data": {
      "text/html": [
       "<div>\n",
       "<style scoped>\n",
       "    .dataframe tbody tr th:only-of-type {\n",
       "        vertical-align: middle;\n",
       "    }\n",
       "\n",
       "    .dataframe tbody tr th {\n",
       "        vertical-align: top;\n",
       "    }\n",
       "\n",
       "    .dataframe thead th {\n",
       "        text-align: right;\n",
       "    }\n",
       "</style>\n",
       "<table border=\"1\" class=\"dataframe\">\n",
       "  <thead>\n",
       "    <tr style=\"text-align: right;\">\n",
       "      <th></th>\n",
       "      <th>chr</th>\n",
       "      <th>pos</th>\n",
       "      <th>ref</th>\n",
       "      <th>alt</th>\n",
       "      <th>sample</th>\n",
       "      <th>mutation_type</th>\n",
       "    </tr>\n",
       "  </thead>\n",
       "  <tbody>\n",
       "    <tr>\n",
       "      <th>0</th>\n",
       "      <td>1</td>\n",
       "      <td>1541059</td>\n",
       "      <td>C</td>\n",
       "      <td>T</td>\n",
       "      <td>5FU-PATIENT1-N-CLONE1</td>\n",
       "      <td>A[C&gt;T]C</td>\n",
       "    </tr>\n",
       "    <tr>\n",
       "      <th>0</th>\n",
       "      <td>1</td>\n",
       "      <td>1937384</td>\n",
       "      <td>C</td>\n",
       "      <td>A</td>\n",
       "      <td>5FU-PATIENT1-N-CLONE1</td>\n",
       "      <td>T[C&gt;A]T</td>\n",
       "    </tr>\n",
       "    <tr>\n",
       "      <th>0</th>\n",
       "      <td>1</td>\n",
       "      <td>2612325</td>\n",
       "      <td>C</td>\n",
       "      <td>T</td>\n",
       "      <td>5FU-PATIENT1-N-CLONE1</td>\n",
       "      <td>C[C&gt;T]G</td>\n",
       "    </tr>\n",
       "    <tr>\n",
       "      <th>0</th>\n",
       "      <td>1</td>\n",
       "      <td>3510206</td>\n",
       "      <td>C</td>\n",
       "      <td>T</td>\n",
       "      <td>5FU-PATIENT1-N-CLONE1</td>\n",
       "      <td>C[C&gt;T]A</td>\n",
       "    </tr>\n",
       "    <tr>\n",
       "      <th>0</th>\n",
       "      <td>1</td>\n",
       "      <td>3510226</td>\n",
       "      <td>C</td>\n",
       "      <td>A</td>\n",
       "      <td>5FU-PATIENT1-N-CLONE1</td>\n",
       "      <td>G[C&gt;A]C</td>\n",
       "    </tr>\n",
       "  </tbody>\n",
       "</table>\n",
       "</div>"
      ],
      "text/plain": [
       "  chr      pos ref alt                 sample mutation_type\n",
       "0   1  1541059   C   T  5FU-PATIENT1-N-CLONE1       A[C>T]C\n",
       "0   1  1937384   C   A  5FU-PATIENT1-N-CLONE1       T[C>A]T\n",
       "0   1  2612325   C   T  5FU-PATIENT1-N-CLONE1       C[C>T]G\n",
       "0   1  3510206   C   T  5FU-PATIENT1-N-CLONE1       C[C>T]A\n",
       "0   1  3510226   C   A  5FU-PATIENT1-N-CLONE1       G[C>A]C"
      ]
     },
     "execution_count": 29,
     "metadata": {},
     "output_type": "execute_result"
    }
   ],
   "source": [
    "# Create a new dataframe with the updated mutation_type format\n",
    "# Pandas dataframes can be created line by line (each line is an individual dataframe)\n",
    "# These lines can be saved in a list of lines\n",
    "# You then need to concatenate the df in the list of lines and add a header again\n",
    "# This chunk of code takes a while to run\n",
    "lines = []\n",
    "\n",
    "for _, row in input_mutations.iterrows():\n",
    "    \n",
    "    chromosome = row['chr']\n",
    "    start = row['pos'] - 1    # trinucleotide = the position and the 5' and 3' nucleotides, so we need to query one position before the mutation\n",
    "    ref = row['ref']\n",
    "    alt = row['alt']\n",
    "    sample = row['sample']\n",
    "    \n",
    "    # Get sequence\n",
    "    trinucleotide = hg19(chromosome, start, size=3)\n",
    "    \n",
    "    # If reference nucleotide is pyrimidine-based, write as: \n",
    "    if ref in ['C', 'T']: \n",
    "        mut_type = f'{trinucleotide[0]}[{ref}>{alt}]{trinucleotide[2]}'\n",
    "    \n",
    "    # If reference nucleotide is purine-based, write as: \n",
    "    if ref in ['A', 'G']: \n",
    "        # Get the reverse complementary of the sequences\n",
    "        trinucleotide = rev_comp(trinucleotide)\n",
    "        ref = rev_comp(ref)\n",
    "        alt = rev_comp(alt)\n",
    "        mut_type = f'{trinucleotide[0]}[{ref}>{alt}]{trinucleotide[2]}'\n",
    "        \n",
    "    # Add to lines\n",
    "    lines += [pd.DataFrame([[chromosome, start, ref, alt, sample, mut_type]])]"
   ]
  },
  {
   "cell_type": "code",
   "execution_count": 30,
   "metadata": {},
   "outputs": [
    {
     "data": {
      "text/html": [
       "<div>\n",
       "<style scoped>\n",
       "    .dataframe tbody tr th:only-of-type {\n",
       "        vertical-align: middle;\n",
       "    }\n",
       "\n",
       "    .dataframe tbody tr th {\n",
       "        vertical-align: top;\n",
       "    }\n",
       "\n",
       "    .dataframe thead th {\n",
       "        text-align: right;\n",
       "    }\n",
       "</style>\n",
       "<table border=\"1\" class=\"dataframe\">\n",
       "  <thead>\n",
       "    <tr style=\"text-align: right;\">\n",
       "      <th></th>\n",
       "      <th>chr</th>\n",
       "      <th>pos</th>\n",
       "      <th>ref</th>\n",
       "      <th>alt</th>\n",
       "      <th>sample</th>\n",
       "      <th>mutation_type</th>\n",
       "    </tr>\n",
       "  </thead>\n",
       "  <tbody>\n",
       "    <tr>\n",
       "      <th>0</th>\n",
       "      <td>1</td>\n",
       "      <td>1541059</td>\n",
       "      <td>C</td>\n",
       "      <td>T</td>\n",
       "      <td>5FU-PATIENT1-N-CLONE1</td>\n",
       "      <td>A[C&gt;T]C</td>\n",
       "    </tr>\n",
       "    <tr>\n",
       "      <th>0</th>\n",
       "      <td>1</td>\n",
       "      <td>1937384</td>\n",
       "      <td>C</td>\n",
       "      <td>A</td>\n",
       "      <td>5FU-PATIENT1-N-CLONE1</td>\n",
       "      <td>T[C&gt;A]T</td>\n",
       "    </tr>\n",
       "    <tr>\n",
       "      <th>0</th>\n",
       "      <td>1</td>\n",
       "      <td>2612325</td>\n",
       "      <td>C</td>\n",
       "      <td>T</td>\n",
       "      <td>5FU-PATIENT1-N-CLONE1</td>\n",
       "      <td>C[C&gt;T]G</td>\n",
       "    </tr>\n",
       "    <tr>\n",
       "      <th>0</th>\n",
       "      <td>1</td>\n",
       "      <td>3510206</td>\n",
       "      <td>C</td>\n",
       "      <td>T</td>\n",
       "      <td>5FU-PATIENT1-N-CLONE1</td>\n",
       "      <td>C[C&gt;T]A</td>\n",
       "    </tr>\n",
       "    <tr>\n",
       "      <th>0</th>\n",
       "      <td>1</td>\n",
       "      <td>3510226</td>\n",
       "      <td>C</td>\n",
       "      <td>A</td>\n",
       "      <td>5FU-PATIENT1-N-CLONE1</td>\n",
       "      <td>G[C&gt;A]C</td>\n",
       "    </tr>\n",
       "  </tbody>\n",
       "</table>\n",
       "</div>"
      ],
      "text/plain": [
       "  chr      pos ref alt                 sample mutation_type\n",
       "0   1  1541059   C   T  5FU-PATIENT1-N-CLONE1       A[C>T]C\n",
       "0   1  1937384   C   A  5FU-PATIENT1-N-CLONE1       T[C>A]T\n",
       "0   1  2612325   C   T  5FU-PATIENT1-N-CLONE1       C[C>T]G\n",
       "0   1  3510206   C   T  5FU-PATIENT1-N-CLONE1       C[C>T]A\n",
       "0   1  3510226   C   A  5FU-PATIENT1-N-CLONE1       G[C>A]C"
      ]
     },
     "execution_count": 30,
     "metadata": {},
     "output_type": "execute_result"
    }
   ],
   "source": [
    "# Concat lines into the new dataframe\n",
    "new_input_mutations = pd.concat(lines)\n",
    "\n",
    "# Add header\n",
    "new_input_mutations.columns = input_mutations.columns\n",
    "new_input_mutations.head()"
   ]
  },
  {
   "cell_type": "code",
   "execution_count": null,
   "metadata": {
    "collapsed": true
   },
   "outputs": [],
   "source": []
  }
 ],
 "metadata": {
  "kernelspec": {
   "display_name": "Python 3 (ipykernel)",
   "language": "python",
   "name": "python3"
  },
  "language_info": {
   "codemirror_mode": {
    "name": "ipython",
    "version": 3
   },
   "file_extension": ".py",
   "mimetype": "text/x-python",
   "name": "python",
   "nbconvert_exporter": "python",
   "pygments_lexer": "ipython3",
   "version": "3.9.13"
  }
 },
 "nbformat": 4,
 "nbformat_minor": 2
}
