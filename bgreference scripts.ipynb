{
 "cells": [
  {
   "cell_type": "code",
   "execution_count": 1,
   "id": "b6474a4c",
   "metadata": {},
   "outputs": [
    {
     "name": "stdout",
     "output_type": "stream",
     "text": [
      "Requirement already satisfied: bgreference in c:\\users\\ainem\\anaconda3\\lib\\site-packages (0.6)\n",
      "Requirement already satisfied: bgconfig>=0.2 in c:\\users\\ainem\\anaconda3\\lib\\site-packages (from bgreference) (0.10)\n",
      "Requirement already satisfied: bgdata>=0.25 in c:\\users\\ainem\\anaconda3\\lib\\site-packages (from bgreference) (2.0.4)\n",
      "Requirement already satisfied: appdirs>=1.4.3 in c:\\users\\ainem\\anaconda3\\lib\\site-packages (from bgconfig>=0.2->bgreference) (1.4.4)\n",
      "Requirement already satisfied: configobj>=5.0.6 in c:\\users\\ainem\\anaconda3\\lib\\site-packages (from bgconfig>=0.2->bgreference) (5.0.6)\n",
      "Requirement already satisfied: homura>=0.1.3 in c:\\users\\ainem\\anaconda3\\lib\\site-packages (from bgdata>=0.25->bgreference) (0.1.5)\n",
      "Requirement already satisfied: click in c:\\users\\ainem\\anaconda3\\lib\\site-packages (from bgdata>=0.25->bgreference) (8.0.4)\n",
      "Requirement already satisfied: requests in c:\\users\\ainem\\anaconda3\\lib\\site-packages (from bgdata>=0.25->bgreference) (2.28.1)\n",
      "Requirement already satisfied: pycurl in c:\\users\\ainem\\anaconda3\\lib\\site-packages (from bgdata>=0.25->bgreference) (7.45.1)\n",
      "Requirement already satisfied: six in c:\\users\\ainem\\anaconda3\\lib\\site-packages (from configobj>=5.0.6->bgconfig>=0.2->bgreference) (1.16.0)\n",
      "Requirement already satisfied: certifi in c:\\users\\ainem\\anaconda3\\lib\\site-packages (from homura>=0.1.3->bgdata>=0.25->bgreference) (2022.9.14)\n",
      "Requirement already satisfied: humanize in c:\\users\\ainem\\anaconda3\\lib\\site-packages (from homura>=0.1.3->bgdata>=0.25->bgreference) (4.4.0)\n",
      "Requirement already satisfied: colorama in c:\\users\\ainem\\anaconda3\\lib\\site-packages (from click->bgdata>=0.25->bgreference) (0.4.5)\n",
      "Requirement already satisfied: urllib3<1.27,>=1.21.1 in c:\\users\\ainem\\anaconda3\\lib\\site-packages (from requests->bgdata>=0.25->bgreference) (1.26.11)\n",
      "Requirement already satisfied: charset-normalizer<3,>=2 in c:\\users\\ainem\\anaconda3\\lib\\site-packages (from requests->bgdata>=0.25->bgreference) (2.0.4)\n",
      "Requirement already satisfied: idna<4,>=2.5 in c:\\users\\ainem\\anaconda3\\lib\\site-packages (from requests->bgdata>=0.25->bgreference) (3.3)\n",
      "Note: you may need to restart the kernel to use updated packages.\n"
     ]
    }
   ],
   "source": [
    "pip install bgreference"
   ]
  },
  {
   "cell_type": "code",
   "execution_count": 13,
   "id": "e8dba9f7",
   "metadata": {},
   "outputs": [
    {
     "data": {
      "text/plain": [
       "'TAA'"
      ]
     },
     "execution_count": 13,
     "metadata": {},
     "output_type": "execute_result"
    }
   ],
   "source": [
    "#testing the example script\n",
    "\n",
    "from bgreference import hg19, hg38\n",
    "\n",
    "# Get 10 bases from chromosome one build hg19\n",
    "tenbases_hg19 = hg19('1', 12345, size=10)\n",
    "\n",
    "# Get 10 bases from chromosome one builg hg38\n",
    "tenbases_hg38 = hg38('1', 12345, size=10)\n",
    "\n",
    "# Use synonymous sequence names\n",
    "\n",
    "hg19(2, 23456)\n",
    "hg19('2', 23456)\n",
    "hg19('chr2', 23456)\n",
    "\n",
    "hg19('MT', 234, size=3)\n",
    "hg19('chrM', 234, size=3)\n",
    "hg19('chrMT', 234, size=3)\n",
    "hg19('M', 236, size=3)"
   ]
  },
  {
   "cell_type": "code",
   "execution_count": 5,
   "id": "29cacdb3",
   "metadata": {},
   "outputs": [
    {
     "data": {
      "text/plain": [
       "'T'"
      ]
     },
     "execution_count": 5,
     "metadata": {},
     "output_type": "execute_result"
    }
   ],
   "source": [
    "sequence = \"AAT\"\n",
    "sequence[2]"
   ]
  },
  {
   "cell_type": "code",
   "execution_count": null,
   "id": "cb53d388",
   "metadata": {},
   "outputs": [],
   "source": []
  }
 ],
 "metadata": {
  "kernelspec": {
   "display_name": "Python 3 (ipykernel)",
   "language": "python",
   "name": "python3"
  },
  "language_info": {
   "codemirror_mode": {
    "name": "ipython",
    "version": 3
   },
   "file_extension": ".py",
   "mimetype": "text/x-python",
   "name": "python",
   "nbconvert_exporter": "python",
   "pygments_lexer": "ipython3",
   "version": "3.9.13"
  }
 },
 "nbformat": 4,
 "nbformat_minor": 5
}
